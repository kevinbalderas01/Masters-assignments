{
 "cells": [
  {
   "cell_type": "markdown",
   "metadata": {
    "id": "SML-04QQLd9l"
   },
   "source": [
    "**MAESTRÍA EN INTELIGENCIA ARTIFICIAL APLICADA**\n",
    "\n",
    "**Curso: TC4029 - Ciencia y analítica de datos**\n",
    "\n",
    "Tecnológico de Monterrey\n",
    "\n",
    "Prof Grettel Barceló Alonso\n",
    "\n",
    "**Semana 2**\n",
    "Pandas para el análisis de datos en Python\n",
    "\n",
    "---"
   ]
  },
  {
   "cell_type": "markdown",
   "metadata": {
    "id": "6q35__bSBB3G"
   },
   "source": [
    "*   NOMBRE: KEVIN BALDERAS SÁNCHEZ\n",
    "*   MATRÍCULA: A01795149\n"
   ]
  },
  {
   "cell_type": "markdown",
   "metadata": {
    "id": "AepY3wwtDXkc"
   },
   "source": [
    "---"
   ]
  },
  {
   "cell_type": "markdown",
   "metadata": {
    "id": "BumCtObqBqGr"
   },
   "source": [
    "En esta actividad usarás el archivo de datos `LaqnData.csv`. Cada fila de este conjunto de datos muestra un registro de medición, por hora, de uno de los siguientes cinco contaminantes del aire:\n",
    "\n",
    "*   `NO` (óxido nítrico)\n",
    "*   `NO2` (dióxido de nitrógeno)\n",
    "*   `NOX` (óxidos nitrosos)\n",
    "*   `PM10` (partículas suspendidas con un diámetro aerodinámico igual o menor a 10 micrómetros)\n",
    "*   `PM2.5` (partículas suspendidas con un diámetro aerodinámico igual o menor a 2.5 micrómetros)\n",
    "\n",
    "Los datos se recopilaron en una ubicación de Londres durante todo el año 2017.\n",
    "\n",
    "**NOTA IMPORTANTE:** Asegúrate de responder *explícitamente* todos los cuestionamientos.\n"
   ]
  },
  {
   "cell_type": "markdown",
   "metadata": {
    "id": "mqtTwAL3Mr44"
   },
   "source": [
    "1.\tDescarga el archivo: `LaqnData.csv` y guarda, en un dataframe (`air_df`), todos sus registros.\n",
    "*   Observa la estructura y contenido del dataframe con los atributos y métodos estudiados (`shape`, `columns`, `head()`, `tail()`, `dtypes`)\n",
    "*   Calcula el porcentaje de valores faltantes por columna."
   ]
  },
  {
   "cell_type": "code",
   "execution_count": 11,
   "metadata": {
    "id": "F5JognteLaJV"
   },
   "outputs": [
    {
     "name": "stdout",
     "output_type": "stream",
     "text": [
      "1-Las dimensiones del dataset son: 43800 filas y  6 columnas\n",
      "\n",
      "2-Los primeros 5 registros del dataset se muestran a continuación: \n",
      "\n",
      "  Site Species   ReadingDateTime  Value   Units Provisional or Ratified\n",
      "0  CT3      NO  01/01/2017 00:00    3.5  ug m-3                       R\n",
      "1  CT3      NO  01/01/2017 01:00    3.6  ug m-3                       R\n",
      "2  CT3      NO  01/01/2017 02:00    2.2  ug m-3                       R\n",
      "3  CT3      NO  01/01/2017 03:00    2.1  ug m-3                       R\n",
      "4  CT3      NO  01/01/2017 04:00    3.3  ug m-3                       R\n",
      "\n",
      "3-Los últimos 5 registros del dataset se muestran a continuación: \n",
      "\n",
      "      Site Species   ReadingDateTime  Value   Units Provisional or Ratified\n",
      "43795  CT3   PM2.5  31/12/2017 19:00   -2.0  ug m-3                       R\n",
      "43796  CT3   PM2.5  31/12/2017 20:00    6.0  ug m-3                       R\n",
      "43797  CT3   PM2.5  31/12/2017 21:00    5.0  ug m-3                       R\n",
      "43798  CT3   PM2.5  31/12/2017 22:00    5.0  ug m-3                       R\n",
      "43799  CT3   PM2.5  31/12/2017 23:00    6.0  ug m-3                       R\n",
      "\n",
      "4-Luego, el nombre de las columnas se muestra a continuación (en forma de lista): \n",
      "\n",
      "['Site' 'Species' 'ReadingDateTime' 'Value' 'Units'\n",
      " 'Provisional or Ratified']\n",
      "\n",
      "5-Después, el tipo de dato de cada columna se muestra: \n",
      "\n",
      "Site                        object\n",
      "Species                     object\n",
      "ReadingDateTime             object\n",
      "Value                      float64\n",
      "Units                       object\n",
      "Provisional or Ratified     object\n",
      "dtype: object\n",
      "\n",
      "6-Por último, el porcentaje de valores faltantes por columna: \n",
      "\n",
      "Site                       0.000000\n",
      "Species                    0.000000\n",
      "ReadingDateTime            0.000000\n",
      "Value                      7.374429\n",
      "Units                      0.000000\n",
      "Provisional or Ratified    0.000000\n",
      "dtype: float64\n",
      "\n",
      "Vemos que la columna que tiene valores faltantes es la de Value con un 7.37%\n"
     ]
    }
   ],
   "source": [
    "import pandas as pd\n",
    "import matplotlib.pyplot as plt\n",
    "\n",
    "air_df = pd.read_csv('LaqnData.csv')\n",
    "rows = air_df.shape[0]\n",
    "cols = air_df.shape[1]\n",
    "print('1-Las dimensiones del dataset son: {} filas y  {} columnas'.format(rows,cols))\n",
    "print()\n",
    "print('2-Los primeros 5 registros del dataset se muestran a continuación: \\n')\n",
    "print(air_df.head(5))\n",
    "print()\n",
    "print('3-Los últimos 5 registros del dataset se muestran a continuación: \\n')\n",
    "print(air_df.tail(5))\n",
    "print()\n",
    "print('4-Luego, el nombre de las columnas se muestra a continuación (en forma de lista): \\n')\n",
    "print(air_df.columns.values)\n",
    "print()\n",
    "print('5-Después, el tipo de dato de cada columna se muestra: \\n')\n",
    "print(air_df.dtypes)\n",
    "print()\n",
    "print('6-Por último, el porcentaje de valores faltantes por columna: \\n')\n",
    "print(air_df.isnull().sum()/rows*100)\n",
    "print()\n",
    "print('Vemos que la columna que tiene valores faltantes es la de Value con un 7.37%')"
   ]
  },
  {
   "cell_type": "markdown",
   "metadata": {
    "id": "APrlS185Cw-K"
   },
   "source": [
    "2.\tObtén la cantidad de valores únicos por columna (`nunique()`) para responder:\n",
    "\n",
    "\n",
    "*   ¿Cuántas mediciones se hicieron?\n",
    "*   ¿Cuántos contaminantes del aire (`Species`) se analizaron?\n",
    "*   ¿Qué columnas no agregan ningún valor informativo porque el mismo valor en todo el conjunto de datos? Elimínalas del dataframe.\n",
    "*   La columna `Units` tampoco posee valor informativo. Verifícalo con la función `unique()` y elimínala del dataframe."
   ]
  },
  {
   "cell_type": "code",
   "execution_count": 12,
   "metadata": {
    "id": "Ke0EGLVaCwm6"
   },
   "outputs": [
    {
     "name": "stdout",
     "output_type": "stream",
     "text": [
      "La cantidad de valores únicos por columna es: \n",
      "\n",
      "Site                          1\n",
      "Species                       5\n",
      "ReadingDateTime            8760\n",
      "Value                      1847\n",
      "Units                         3\n",
      "Provisional or Ratified       1\n",
      "dtype: int64\n",
      "\n",
      "El conteo total de mediciones fue: 43800\n",
      "\n",
      "\n",
      "Los contaminantes del aire que se analizaron fueron 5\n",
      "\n",
      "\n",
      "Las columnas que tienen mismo valor en todos los registro son: ['Site', 'Provisional or Ratified']\n",
      "\n",
      "\n",
      "Para la columna Units, los valores son: ['ug m-3' 'ug m-3 as NO2' 'ug/m3'] que por valor es el mismo, sólo que diferente formato\n",
      "\n",
      "\n",
      "Luego de eliminar columnas no relevante, tenemos:\n",
      "\n",
      "  Species   ReadingDateTime  Value\n",
      "0      NO  01/01/2017 00:00    3.5\n",
      "1      NO  01/01/2017 01:00    3.6\n",
      "2      NO  01/01/2017 02:00    2.2\n",
      "3      NO  01/01/2017 03:00    2.1\n",
      "4      NO  01/01/2017 04:00    3.3\n"
     ]
    }
   ],
   "source": [
    "air_df_unique =air_df.nunique() \n",
    "print('La cantidad de valores únicos por columna es: \\n')\n",
    "print(air_df_unique)\n",
    "print()\n",
    "print('El conteo total de mediciones fue: {}\\n'.format(rows))\n",
    "print()\n",
    "print('Los contaminantes del aire que se analizaron fueron {}\\n'.format(air_df_unique[1]))\n",
    "print()\n",
    "cols_same_info = air_df_unique[air_df_unique==1]\n",
    "print('Las columnas que tienen mismo valor en todos los registro son: {}\\n'.format(list(cols_same_info.index)))\n",
    "print()\n",
    "print('Para la columna Units, los valores son: {} que por valor es el mismo, sólo que diferente formato\\n'.format(air_df.Units.unique()))\n",
    "print()\n",
    "\n",
    "print('Luego de eliminar columnas no relevante, tenemos:\\n')\n",
    "air_df = air_df.drop(columns = ['Site','Provisional or Ratified','Units'])\n",
    "print(air_df.head(5))"
   ]
  },
  {
   "cell_type": "markdown",
   "metadata": {
    "id": "zEddCwHWEJZ7"
   },
   "source": [
    "3.\tRealiza el conteo de valores por categoría (`value_counts()`) para la columna `Species` y determina si las lecturas de cada contaminante coincide con el total de mediciones."
   ]
  },
  {
   "cell_type": "code",
   "execution_count": 13,
   "metadata": {
    "id": "inCKasmZEPsv"
   },
   "outputs": [
    {
     "name": "stdout",
     "output_type": "stream",
     "text": [
      "Como del inciso anterior tenemos que los registros fueron 43800\n",
      "\n",
      "\n",
      "PM10     8760\n",
      "NO       8760\n",
      "NOX      8760\n",
      "NO2      8760\n",
      "PM2.5    8760\n",
      "Name: Species, dtype: int64\n",
      "\n",
      "Tenemos que la suma de valores por categoria de species es : 43800\n",
      "\n",
      "\n"
     ]
    }
   ],
   "source": [
    "print('Como del inciso anterior tenemos que los registros fueron {}\\n'.format(rows))\n",
    "print()\n",
    "value_speci = air_df.Species.value_counts()\n",
    "print(value_speci)\n",
    "print()\n",
    "print('Tenemos que la suma de valores por categoria de species es : {}\\n'.format(value_speci.sum()))\n",
    "print()"
   ]
  },
  {
   "cell_type": "markdown",
   "metadata": {
    "id": "zhJM6l1vETfI"
   },
   "source": [
    "4.\tUtiliza la función `groupby()` para determinar el promedio del valor por contaminante."
   ]
  },
  {
   "cell_type": "code",
   "execution_count": 14,
   "metadata": {
    "id": "zstyHahSETJK"
   },
   "outputs": [
    {
     "data": {
      "text/html": [
       "<div>\n",
       "<style scoped>\n",
       "    .dataframe tbody tr th:only-of-type {\n",
       "        vertical-align: middle;\n",
       "    }\n",
       "\n",
       "    .dataframe tbody tr th {\n",
       "        vertical-align: top;\n",
       "    }\n",
       "\n",
       "    .dataframe thead th {\n",
       "        text-align: right;\n",
       "    }\n",
       "</style>\n",
       "<table border=\"1\" class=\"dataframe\">\n",
       "  <thead>\n",
       "    <tr style=\"text-align: right;\">\n",
       "      <th></th>\n",
       "      <th>Value</th>\n",
       "    </tr>\n",
       "    <tr>\n",
       "      <th>Species</th>\n",
       "      <th></th>\n",
       "    </tr>\n",
       "  </thead>\n",
       "  <tbody>\n",
       "    <tr>\n",
       "      <th>NO</th>\n",
       "      <td>15.045115</td>\n",
       "    </tr>\n",
       "    <tr>\n",
       "      <th>NO2</th>\n",
       "      <td>38.010185</td>\n",
       "    </tr>\n",
       "    <tr>\n",
       "      <th>NOX</th>\n",
       "      <td>61.078661</td>\n",
       "    </tr>\n",
       "    <tr>\n",
       "      <th>PM10</th>\n",
       "      <td>22.551704</td>\n",
       "    </tr>\n",
       "    <tr>\n",
       "      <th>PM2.5</th>\n",
       "      <td>14.999831</td>\n",
       "    </tr>\n",
       "  </tbody>\n",
       "</table>\n",
       "</div>"
      ],
      "text/plain": [
       "             Value\n",
       "Species           \n",
       "NO       15.045115\n",
       "NO2      38.010185\n",
       "NOX      61.078661\n",
       "PM10     22.551704\n",
       "PM2.5    14.999831"
      ]
     },
     "execution_count": 14,
     "metadata": {},
     "output_type": "execute_result"
    }
   ],
   "source": [
    "air_df.groupby(['Species']).mean('Value')"
   ]
  },
  {
   "cell_type": "markdown",
   "metadata": {
    "id": "GY2ux-Q_EV7J"
   },
   "source": [
    "5.\tEl conjunto de datos está en un formato largo. Aplique la función apropiada para cambiarlo al formato ancho (`ReadingDateTime` como índice y cada contaminante en una columna). Nombre el dataframe resultante como `pvt_df`."
   ]
  },
  {
   "cell_type": "code",
   "execution_count": 15,
   "metadata": {
    "id": "1IETxb9vFIF-"
   },
   "outputs": [
    {
     "data": {
      "text/html": [
       "<div>\n",
       "<style scoped>\n",
       "    .dataframe tbody tr th:only-of-type {\n",
       "        vertical-align: middle;\n",
       "    }\n",
       "\n",
       "    .dataframe tbody tr th {\n",
       "        vertical-align: top;\n",
       "    }\n",
       "\n",
       "    .dataframe thead tr th {\n",
       "        text-align: left;\n",
       "    }\n",
       "\n",
       "    .dataframe thead tr:last-of-type th {\n",
       "        text-align: right;\n",
       "    }\n",
       "</style>\n",
       "<table border=\"1\" class=\"dataframe\">\n",
       "  <thead>\n",
       "    <tr>\n",
       "      <th></th>\n",
       "      <th colspan=\"5\" halign=\"left\">Value</th>\n",
       "    </tr>\n",
       "    <tr>\n",
       "      <th>Species</th>\n",
       "      <th>NO</th>\n",
       "      <th>NO2</th>\n",
       "      <th>NOX</th>\n",
       "      <th>PM10</th>\n",
       "      <th>PM2.5</th>\n",
       "    </tr>\n",
       "    <tr>\n",
       "      <th>ReadingDateTime</th>\n",
       "      <th></th>\n",
       "      <th></th>\n",
       "      <th></th>\n",
       "      <th></th>\n",
       "      <th></th>\n",
       "    </tr>\n",
       "  </thead>\n",
       "  <tbody>\n",
       "    <tr>\n",
       "      <th>01/01/2017 00:00</th>\n",
       "      <td>3.5</td>\n",
       "      <td>30.8</td>\n",
       "      <td>36.2</td>\n",
       "      <td>35.7</td>\n",
       "      <td>NaN</td>\n",
       "    </tr>\n",
       "    <tr>\n",
       "      <th>01/01/2017 01:00</th>\n",
       "      <td>3.6</td>\n",
       "      <td>31.5</td>\n",
       "      <td>37.0</td>\n",
       "      <td>28.5</td>\n",
       "      <td>NaN</td>\n",
       "    </tr>\n",
       "    <tr>\n",
       "      <th>01/01/2017 02:00</th>\n",
       "      <td>2.2</td>\n",
       "      <td>27.3</td>\n",
       "      <td>30.7</td>\n",
       "      <td>22.7</td>\n",
       "      <td>NaN</td>\n",
       "    </tr>\n",
       "    <tr>\n",
       "      <th>01/01/2017 03:00</th>\n",
       "      <td>2.1</td>\n",
       "      <td>23.5</td>\n",
       "      <td>26.8</td>\n",
       "      <td>20.5</td>\n",
       "      <td>NaN</td>\n",
       "    </tr>\n",
       "    <tr>\n",
       "      <th>01/01/2017 04:00</th>\n",
       "      <td>3.3</td>\n",
       "      <td>28.0</td>\n",
       "      <td>33.0</td>\n",
       "      <td>22.1</td>\n",
       "      <td>NaN</td>\n",
       "    </tr>\n",
       "  </tbody>\n",
       "</table>\n",
       "</div>"
      ],
      "text/plain": [
       "                 Value                        \n",
       "Species             NO   NO2   NOX  PM10 PM2.5\n",
       "ReadingDateTime                               \n",
       "01/01/2017 00:00   3.5  30.8  36.2  35.7   NaN\n",
       "01/01/2017 01:00   3.6  31.5  37.0  28.5   NaN\n",
       "01/01/2017 02:00   2.2  27.3  30.7  22.7   NaN\n",
       "01/01/2017 03:00   2.1  23.5  26.8  20.5   NaN\n",
       "01/01/2017 04:00   3.3  28.0  33.0  22.1   NaN"
      ]
     },
     "execution_count": 15,
     "metadata": {},
     "output_type": "execute_result"
    }
   ],
   "source": [
    "pvt_df = air_df.pivot(index='ReadingDateTime',columns='Species')\n",
    "pvt_df.head(5)"
   ]
  },
  {
   "cell_type": "markdown",
   "metadata": {
    "id": "JmbiBXqFFIZx"
   },
   "source": [
    "6.\tA través de la función `describe()` responde:\n",
    "\n",
    "*   ¿Cuál es el mayor valor de `NO2` registrado? ¿A qué día pertenece?\n",
    "*   ¿Cuál es el menor valor de `PM10` registrado?¿A qué día pertenece?\n",
    "*   ¿Cuál es la mediana del `NO`? ¿Cómo se interpreta?\n",
    "*   ¿Cuál es el primer cuartil de `PM2.5`? ¿Qué significa?"
   ]
  },
  {
   "cell_type": "code",
   "execution_count": 16,
   "metadata": {
    "id": "_qWYoEx3Fbod"
   },
   "outputs": [
    {
     "name": "stdout",
     "output_type": "stream",
     "text": [
      "               Value                                                    \n",
      "Species           NO          NO2          NOX         PM10        PM2.5\n",
      "count    8660.000000  8660.000000  8660.000000  8657.000000  5933.000000\n",
      "mean       15.045115    38.010185    61.078661    22.551704    14.999831\n",
      "std        26.678565    18.580841    54.584805    15.344755    13.558588\n",
      "min        -2.000000     2.800000     1.000000    -5.600000    -8.000000\n",
      "25%         3.100000    23.800000    30.300000    13.900000     7.000000\n",
      "50%         7.100000    35.300000    46.900000    19.500000    11.000000\n",
      "75%        15.500000    49.900000    73.800000    27.300000    18.000000\n",
      "max       401.799990   120.200000   734.299990   633.099980   128.000000\n",
      "\n",
      "El mayor valor de NO2 registrado fue 120.2\n",
      "Con fecha de: 24/01/2017 19:00\n",
      "\n",
      "El menor valor de PM10 registrado fue -5.6\n",
      "Con fecha de: 12/09/2017 23:00\n",
      "\n",
      "La mediana de NO registrado fue 7.1\n",
      "El segundo cuartil es la mediana en sí, puesto que representa punto donde se encuentra el 50% los datos\n",
      "\n",
      "El primer cuartil de PM2.5 registrado fue 7.0\n",
      "El primer cuartil representa punto donde se encuentra el 25% los datos.\n",
      "Es decir, a partir de ese dato, en adelante, se encuentra el otro 75% de los datos\n"
     ]
    }
   ],
   "source": [
    "air_description = pvt_df.describe()\n",
    "print(air_description)\n",
    "print()\n",
    "\n",
    "print('El mayor valor de NO2 registrado fue {}'.format(air_description.values[-1][1]))\n",
    "date_max_no2 = pvt_df[pvt_df['Value']['NO2']==120.2].index[0]\n",
    "print('Con fecha de: {}\\n'.format(date_max_no2))\n",
    "\n",
    "print('El menor valor de PM10 registrado fue {}'.format(air_description.values[3][3]))\n",
    "date_min_pm10 = pvt_df[pvt_df['Value']['PM10']==-5.60].index[0]\n",
    "print('Con fecha de: {}\\n'.format(date_min_pm10))\n",
    "\n",
    "print('La mediana de NO registrado fue {}'.format(air_description.values[-3][0]))\n",
    "print('El segundo cuartil es la mediana en sí, puesto que representa punto donde se encuentra el 50% los datos\\n')\n",
    "\n",
    "\n",
    "print('El primer cuartil de PM2.5 registrado fue {}'.format(air_description.values[-4][-1]))\n",
    "print('El primer cuartil representa punto donde se encuentra el 25% los datos.')\n",
    "print('Es decir, a partir de ese dato, en adelante, se encuentra el otro 75% de los datos')\n"
   ]
  },
  {
   "cell_type": "markdown",
   "metadata": {
    "id": "Rki16hYaFd9p"
   },
   "source": [
    "7.\tDibuja un histograma para cada columna de `pvt_df`. ¿Qué contaminante tiene mayor variabilidad?"
   ]
  },
  {
   "cell_type": "code",
   "execution_count": 17,
   "metadata": {
    "id": "NaGkunSeFfn8"
   },
   "outputs": [
    {
     "name": "stdout",
     "output_type": "stream",
     "text": [
      "Solo de ver los histogramos vemos que el contaminante con mayor variabilidad estan entre NO, NOX y PM10\n",
      "El NOX es el de mayor variabilidad por el histograma y la información de inciso anterior con la desviacion estandar de 61\n",
      "Pues podriamos argumentar que el NO también presenta variabilididad, pero está más acotada por el rango de valores\n",
      "\n"
     ]
    },
    {
     "data": {
      "image/png": "[encoded data removed]",
      "text/plain": [
       "<Figure size 1800x1080 with 6 Axes>"
      ]
     },
     "metadata": {
      "needs_background": "light"
     },
     "output_type": "display_data"
    }
   ],
   "source": [
    "%matplotlib inline\n",
    "print(\"Solo de ver los histogramos vemos que el contaminante con mayor variabilidad estan entre NO, NOX y PM10\")\n",
    "print('El NOX es el de mayor variabilidad por el histograma y la información de inciso anterior con la desviacion estandar de 61')\n",
    "print(\"Pues podriamos argumentar que el NO también presenta variabilididad, pero está más acotada por el rango de valores\")\n",
    "print('')\n",
    "pvt_df.hist(bins=50,figsize=(25,15))\n",
    "plt.show()"
   ]
  },
  {
   "cell_type": "markdown",
   "metadata": {
    "id": "2hJ4LzP3fgvy"
   },
   "source": [
    "8.\tEjecuta el siguiente código y comenta qué hace cada línea:"
   ]
  },
  {
   "cell_type": "code",
   "execution_count": 18,
   "metadata": {
    "id": "goQuWzNVfomA"
   },
   "outputs": [
    {
     "data": {
      "text/html": [
       "<div>\n",
       "<style scoped>\n",
       "    .dataframe tbody tr th:only-of-type {\n",
       "        vertical-align: middle;\n",
       "    }\n",
       "\n",
       "    .dataframe tbody tr th {\n",
       "        vertical-align: top;\n",
       "    }\n",
       "\n",
       "    .dataframe thead th {\n",
       "        text-align: right;\n",
       "    }\n",
       "</style>\n",
       "<table border=\"1\" class=\"dataframe\">\n",
       "  <thead>\n",
       "    <tr style=\"text-align: right;\">\n",
       "      <th></th>\n",
       "      <th></th>\n",
       "      <th></th>\n",
       "      <th></th>\n",
       "      <th>Value</th>\n",
       "    </tr>\n",
       "    <tr>\n",
       "      <th>Month</th>\n",
       "      <th>Day</th>\n",
       "      <th>Time</th>\n",
       "      <th>Species</th>\n",
       "      <th></th>\n",
       "    </tr>\n",
       "  </thead>\n",
       "  <tbody>\n",
       "    <tr>\n",
       "      <th rowspan=\"5\" valign=\"top\">01</th>\n",
       "      <th rowspan=\"5\" valign=\"top\">01</th>\n",
       "      <th>00:00</th>\n",
       "      <th>NO</th>\n",
       "      <td>3.5</td>\n",
       "    </tr>\n",
       "    <tr>\n",
       "      <th>01:00</th>\n",
       "      <th>NO</th>\n",
       "      <td>3.6</td>\n",
       "    </tr>\n",
       "    <tr>\n",
       "      <th>02:00</th>\n",
       "      <th>NO</th>\n",
       "      <td>2.2</td>\n",
       "    </tr>\n",
       "    <tr>\n",
       "      <th>03:00</th>\n",
       "      <th>NO</th>\n",
       "      <td>2.1</td>\n",
       "    </tr>\n",
       "    <tr>\n",
       "      <th>04:00</th>\n",
       "      <th>NO</th>\n",
       "      <td>3.3</td>\n",
       "    </tr>\n",
       "    <tr>\n",
       "      <th>...</th>\n",
       "      <th>...</th>\n",
       "      <th>...</th>\n",
       "      <th>...</th>\n",
       "      <td>...</td>\n",
       "    </tr>\n",
       "    <tr>\n",
       "      <th rowspan=\"5\" valign=\"top\">12</th>\n",
       "      <th rowspan=\"5\" valign=\"top\">31</th>\n",
       "      <th>19:00</th>\n",
       "      <th>PM2.5</th>\n",
       "      <td>-2.0</td>\n",
       "    </tr>\n",
       "    <tr>\n",
       "      <th>20:00</th>\n",
       "      <th>PM2.5</th>\n",
       "      <td>6.0</td>\n",
       "    </tr>\n",
       "    <tr>\n",
       "      <th>21:00</th>\n",
       "      <th>PM2.5</th>\n",
       "      <td>5.0</td>\n",
       "    </tr>\n",
       "    <tr>\n",
       "      <th>22:00</th>\n",
       "      <th>PM2.5</th>\n",
       "      <td>5.0</td>\n",
       "    </tr>\n",
       "    <tr>\n",
       "      <th>23:00</th>\n",
       "      <th>PM2.5</th>\n",
       "      <td>6.0</td>\n",
       "    </tr>\n",
       "  </tbody>\n",
       "</table>\n",
       "<p>43800 rows × 1 columns</p>\n",
       "</div>"
      ],
      "text/plain": [
       "                         Value\n",
       "Month Day Time  Species       \n",
       "01    01  00:00 NO         3.5\n",
       "          01:00 NO         3.6\n",
       "          02:00 NO         2.2\n",
       "          03:00 NO         2.1\n",
       "          04:00 NO         3.3\n",
       "...                        ...\n",
       "12    31  19:00 PM2.5     -2.0\n",
       "          20:00 PM2.5      6.0\n",
       "          21:00 PM2.5      5.0\n",
       "          22:00 PM2.5      5.0\n",
       "          23:00 PM2.5      6.0\n",
       "\n",
       "[43800 rows x 1 columns]"
      ]
     },
     "execution_count": 18,
     "metadata": {},
     "output_type": "execute_result"
    }
   ],
   "source": [
    "#Divide el contenido de la columna ReadingDateTime por el espacio entre el contenido y hace nuevas columnas de dicha división\n",
    "datetime_df = air_df.ReadingDateTime.str.split(' ',expand=True) \n",
    "#Renombra columnas resultantes de la division anterior como Date y Time\n",
    "datetime_df.columns = ['Date','Time']\n",
    "#Nuevo dataset con columnas Date y Time\n",
    "datetime_df\n",
    "#Ahora dividimos la columna Date usando el caracter / como separador\n",
    "date_df = datetime_df.Date.str.split('/',expand=True)\n",
    "#Renombra dicha división anterior con columnas como Day, Month y Year\n",
    "date_df.columns = ['Day','Month','Year']\n",
    "#Nuevo dataset con columnas Day,Month,Year\n",
    "date_df\n",
    "#Ahora hacemos un nuevo dataframe, uniendo el air_df original junto con el datetime_df y el date_df\n",
    "#Por último, borramos columnas de ReadingDateTime y Year\n",
    "air_df = air_df.join(date_df).join(datetime_df.Time).drop(columns=['ReadingDateTime','Year'])\n",
    "#Nuevos indices\n",
    "air_df = air_df.set_index(['Month','Day','Time','Species'])\n",
    "air_df"
   ]
  },
  {
   "cell_type": "markdown",
   "metadata": {
    "id": "37E3dol8fpik"
   },
   "source": [
    "9. Ejecuta la siguiente instrucción y compara su salida con la del código anterior (ejercicio 8). ¿Son iguales?"
   ]
  },
  {
   "cell_type": "code",
   "execution_count": 19,
   "metadata": {
    "id": "cgbAxJrvfweW"
   },
   "outputs": [
    {
     "name": "stdout",
     "output_type": "stream",
     "text": [
      "Como el comando unstack trabaja con los indices y se encarga de hacer un formato wide\n",
      "Sabiendo eso y que del inciso anterior tenemos como indices a Dia, Mes, Tiempo y Especie\n",
      "El comando permite que Especie pase a columna para cada valor y así tener un formato amplio\n"
     ]
    },
    {
     "data": {
      "text/html": [
       "<div>\n",
       "<style scoped>\n",
       "    .dataframe tbody tr th:only-of-type {\n",
       "        vertical-align: middle;\n",
       "    }\n",
       "\n",
       "    .dataframe tbody tr th {\n",
       "        vertical-align: top;\n",
       "    }\n",
       "\n",
       "    .dataframe thead tr th {\n",
       "        text-align: left;\n",
       "    }\n",
       "\n",
       "    .dataframe thead tr:last-of-type th {\n",
       "        text-align: right;\n",
       "    }\n",
       "</style>\n",
       "<table border=\"1\" class=\"dataframe\">\n",
       "  <thead>\n",
       "    <tr>\n",
       "      <th></th>\n",
       "      <th></th>\n",
       "      <th></th>\n",
       "      <th colspan=\"5\" halign=\"left\">Value</th>\n",
       "    </tr>\n",
       "    <tr>\n",
       "      <th></th>\n",
       "      <th></th>\n",
       "      <th>Species</th>\n",
       "      <th>NO</th>\n",
       "      <th>NO2</th>\n",
       "      <th>NOX</th>\n",
       "      <th>PM10</th>\n",
       "      <th>PM2.5</th>\n",
       "    </tr>\n",
       "    <tr>\n",
       "      <th>Month</th>\n",
       "      <th>Day</th>\n",
       "      <th>Time</th>\n",
       "      <th></th>\n",
       "      <th></th>\n",
       "      <th></th>\n",
       "      <th></th>\n",
       "      <th></th>\n",
       "    </tr>\n",
       "  </thead>\n",
       "  <tbody>\n",
       "    <tr>\n",
       "      <th rowspan=\"5\" valign=\"top\">01</th>\n",
       "      <th rowspan=\"5\" valign=\"top\">01</th>\n",
       "      <th>00:00</th>\n",
       "      <td>3.5</td>\n",
       "      <td>30.8</td>\n",
       "      <td>36.2</td>\n",
       "      <td>35.7</td>\n",
       "      <td>NaN</td>\n",
       "    </tr>\n",
       "    <tr>\n",
       "      <th>01:00</th>\n",
       "      <td>3.6</td>\n",
       "      <td>31.5</td>\n",
       "      <td>37.0</td>\n",
       "      <td>28.5</td>\n",
       "      <td>NaN</td>\n",
       "    </tr>\n",
       "    <tr>\n",
       "      <th>02:00</th>\n",
       "      <td>2.2</td>\n",
       "      <td>27.3</td>\n",
       "      <td>30.7</td>\n",
       "      <td>22.7</td>\n",
       "      <td>NaN</td>\n",
       "    </tr>\n",
       "    <tr>\n",
       "      <th>03:00</th>\n",
       "      <td>2.1</td>\n",
       "      <td>23.5</td>\n",
       "      <td>26.8</td>\n",
       "      <td>20.5</td>\n",
       "      <td>NaN</td>\n",
       "    </tr>\n",
       "    <tr>\n",
       "      <th>04:00</th>\n",
       "      <td>3.3</td>\n",
       "      <td>28.0</td>\n",
       "      <td>33.0</td>\n",
       "      <td>22.1</td>\n",
       "      <td>NaN</td>\n",
       "    </tr>\n",
       "    <tr>\n",
       "      <th>...</th>\n",
       "      <th>...</th>\n",
       "      <th>...</th>\n",
       "      <td>...</td>\n",
       "      <td>...</td>\n",
       "      <td>...</td>\n",
       "      <td>...</td>\n",
       "      <td>...</td>\n",
       "    </tr>\n",
       "    <tr>\n",
       "      <th rowspan=\"5\" valign=\"top\">12</th>\n",
       "      <th rowspan=\"5\" valign=\"top\">31</th>\n",
       "      <th>19:00</th>\n",
       "      <td>0.7</td>\n",
       "      <td>17.5</td>\n",
       "      <td>18.5</td>\n",
       "      <td>16.3</td>\n",
       "      <td>-2.0</td>\n",
       "    </tr>\n",
       "    <tr>\n",
       "      <th>20:00</th>\n",
       "      <td>0.7</td>\n",
       "      <td>17.5</td>\n",
       "      <td>18.6</td>\n",
       "      <td>14.5</td>\n",
       "      <td>6.0</td>\n",
       "    </tr>\n",
       "    <tr>\n",
       "      <th>21:00</th>\n",
       "      <td>0.7</td>\n",
       "      <td>14.1</td>\n",
       "      <td>15.1</td>\n",
       "      <td>8.6</td>\n",
       "      <td>5.0</td>\n",
       "    </tr>\n",
       "    <tr>\n",
       "      <th>22:00</th>\n",
       "      <td>1.1</td>\n",
       "      <td>22.0</td>\n",
       "      <td>23.6</td>\n",
       "      <td>12.5</td>\n",
       "      <td>5.0</td>\n",
       "    </tr>\n",
       "    <tr>\n",
       "      <th>23:00</th>\n",
       "      <td>0.9</td>\n",
       "      <td>19.4</td>\n",
       "      <td>20.7</td>\n",
       "      <td>10.4</td>\n",
       "      <td>6.0</td>\n",
       "    </tr>\n",
       "  </tbody>\n",
       "</table>\n",
       "<p>8760 rows × 5 columns</p>\n",
       "</div>"
      ],
      "text/plain": [
       "                Value                        \n",
       "Species            NO   NO2   NOX  PM10 PM2.5\n",
       "Month Day Time                               \n",
       "01    01  00:00   3.5  30.8  36.2  35.7   NaN\n",
       "          01:00   3.6  31.5  37.0  28.5   NaN\n",
       "          02:00   2.2  27.3  30.7  22.7   NaN\n",
       "          03:00   2.1  23.5  26.8  20.5   NaN\n",
       "          04:00   3.3  28.0  33.0  22.1   NaN\n",
       "...               ...   ...   ...   ...   ...\n",
       "12    31  19:00   0.7  17.5  18.5  16.3  -2.0\n",
       "          20:00   0.7  17.5  18.6  14.5   6.0\n",
       "          21:00   0.7  14.1  15.1   8.6   5.0\n",
       "          22:00   1.1  22.0  23.6  12.5   5.0\n",
       "          23:00   0.9  19.4  20.7  10.4   6.0\n",
       "\n",
       "[8760 rows x 5 columns]"
      ]
     },
     "execution_count": 19,
     "metadata": {},
     "output_type": "execute_result"
    }
   ],
   "source": [
    "print('Como el comando unstack trabaja con los indices y se encarga de hacer un formato wide')\n",
    "print('Sabiendo eso y que del inciso anterior tenemos como indices a Dia, Mes, Tiempo y Especie')\n",
    "print('El comando permite que Especie pase a columna para cada valor y así tener un formato amplio')\n",
    "air_df.unstack()"
   ]
  },
  {
   "cell_type": "markdown",
   "metadata": {
    "id": "K1vWLX2ffxHV"
   },
   "source": [
    "10.\tExplica cuáles son las diferencias y similitudes entre el par `melt()/pivot()` y el par `stack()/unstack()`. Si tuvieras que elegir una contraparte para `melt()` entre `stack()/unstack()`, ¿cuál elegirías? ¿Por qué?"
   ]
  },
  {
   "cell_type": "markdown",
   "metadata": {
    "id": "L0EtgOVIfzRd"
   },
   "source": [
    "Se puede decir que melt hace un unpivot de un dataframe, convirtiendolo asi de un wide format a un long format. Mientras que el par melt/pivot trabajan a nivel de dataframe, el par stack/unstack trabaja a nivel de indice. Si tenemos un dataframe con dos columnas como indice, el comando unstack, empuja el nivel más interno en el orden de los indices y lo hace columna (dando un formato wide). Por la parte contraria, el comando stack, empuja una columna para que sea indice, haciendo asi un formato long. Entonces, debido a lo anterior, la contraparte de melt entre stack o unstack sería el unstack, debido a que su parte equivalente es stack."
   ]
  }
 ],
 "metadata": {
  "colab": {
   "provenance": []
  },
  "kernelspec": {
   "display_name": "Python 3",
   "language": "python",
   "name": "python3"
  },
  "language_info": {
   "codemirror_mode": {
    "name": "ipython",
    "version": 3
   },
   "file_extension": ".py",
   "mimetype": "text/x-python",
   "name": "python",
   "nbconvert_exporter": "python",
   "pygments_lexer": "ipython3",
   "version": "3.7.3"
  }
 },
 "nbformat": 4,
 "nbformat_minor": 1
}
